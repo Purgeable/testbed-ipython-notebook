{
 "cells": [
  {
   "cell_type": "markdown",
   "metadata": {},
   "source": [
    "Some Quant Econ graphs and code\n",
    "---------------------------------\n"
   ]
  },
  {
   "cell_type": "markdown",
   "metadata": {},
   "source": [
    "Deterministic process $\\{y_t\\}$:"
   ]
  },
  {
   "cell_type": "markdown",
   "metadata": {
    "collapsed": true
   },
   "source": [
    "$$y_{t+1} = 1.1 + 0.8y_t - 0.5y_{t-1}$$"
   ]
  },
  {
   "cell_type": "markdown",
   "metadata": {},
   "source": [
    "Replicating with ```N = 50``` observations"
   ]
  },
  {
   "cell_type": "code",
   "execution_count": 7,
   "metadata": {
    "collapsed": false
   },
   "outputs": [
    {
     "data": {
      "image/png": "[encoded data removed]",
      "text/plain": [
       "<matplotlib.figure.Figure at 0x1d38ddd4978>"
      ]
     },
     "metadata": {},
     "output_type": "display_data"
    }
   ],
   "source": [
    "N = 50\n",
    "\n",
    "import matplotlib.pyplot as plt\n",
    "\n",
    "def timeplot():\n",
    "    fig, ax = plt.subplots(figsize=(8, 4.6))\n",
    "    ax.grid()\n",
    "    ax.set_xlabel('time')\n",
    "    ax.set_ylabel(r'$y_t$', fontsize=16)\n",
    "    return fig, ax\n",
    "\n",
    "# making y[t] sequence\n",
    "y = [1] * N\n",
    "for t in range(0,N-1):\n",
    "    y[t+1] = 1.1 + 0.8 * y[t] - 0.5 * y[t-1]\n",
    "\n",
    "# plotting y[t] sequence\n",
    "fig, ax = timeplot()\n",
    "ax.plot(y, 'b-', lw=2, alpha=0.7)\n",
    "plt.show()"
   ]
  },
  {
   "cell_type": "code",
   "execution_count": null,
   "metadata": {
    "collapsed": true
   },
   "outputs": [],
   "source": [
    "import numpy as np\n",
    "x = mu + sigma * np.random.randn(10000)"
   ]
  }
 ],
 "metadata": {
  "kernelspec": {
   "display_name": "Python 3",
   "language": "python",
   "name": "python3"
  },
  "language_info": {
   "codemirror_mode": {
    "name": "ipython",
    "version": 3
   },
   "file_extension": ".py",
   "mimetype": "text/x-python",
   "name": "python",
   "nbconvert_exporter": "python",
   "pygments_lexer": "ipython3",
   "version": "3.5.1"
  }
 },
 "nbformat": 4,
 "nbformat_minor": 0
}
